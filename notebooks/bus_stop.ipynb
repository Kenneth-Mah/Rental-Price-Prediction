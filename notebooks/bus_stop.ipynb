{
 "cells": [
  {
   "cell_type": "code",
   "execution_count": 1,
   "metadata": {},
   "outputs": [
    {
     "name": "stderr",
     "output_type": "stream",
     "text": [
      "/home/alexy/miniconda3/envs/airflow/lib/python3.8/site-packages/pyproj/crs/crs.py:141: FutureWarning: '+init=<authority>:<code>' syntax is deprecated. '<authority>:<code>' is the preferred initialization method. When making the change, be mindful of axis order changes: https://pyproj4.github.io/pyproj/stable/gotchas.html#axis-order-changes-in-proj-6\n",
      "  in_crs_string = _prepare_from_proj_string(in_crs_string)\n",
      "/home/alexy/miniconda3/envs/airflow/lib/python3.8/site-packages/pyproj/crs/crs.py:141: FutureWarning: '+init=<authority>:<code>' syntax is deprecated. '<authority>:<code>' is the preferred initialization method. When making the change, be mindful of axis order changes: https://pyproj4.github.io/pyproj/stable/gotchas.html#axis-order-changes-in-proj-6\n",
      "  in_crs_string = _prepare_from_proj_string(in_crs_string)\n"
     ]
    }
   ],
   "source": [
    "from pyproj import Proj, transform\n",
    "def wgs84_to_svy21(latitude, longitude):\n",
    "    # Convert from WGS84 to SVY21\n",
    "    easting, northing = transform(wgs84_proj, svy21_proj, longitude, latitude)\n",
    "    return northing, easting\n",
    "    \n",
    "# Define the projection for SVY21\n",
    "svy21_proj = Proj(init='epsg:3414')  # EPSG code for SVY21\n",
    "\n",
    "# Define the projection for WGS84\n",
    "wgs84_proj = Proj(init='epsg:4326')  # EPSG code for WGS84\n",
    "\n",
    "def svy21_to_wgs84(northing, easting):\n",
    "    # Convert from SVY21 to WGS84\n",
    "    lon, lat = transform(svy21_proj, wgs84_proj, easting, northing)\n",
    "    return lat, lon\n",
    "\n",
    "# Example usage\n",
    "# northing = 31490.4942\n",
    "# easting = 30800.0120\n",
    "# latitude, longitude = svy21_to_wgs84(northing, easting)\n",
    "# print(f\"Latitude: {latitude}, Longitude: {longitude}\")\n"
   ]
  },
  {
   "cell_type": "code",
   "execution_count": 2,
   "metadata": {},
   "outputs": [
    {
     "name": "stdout",
     "output_type": "stream",
     "text": [
      "File downloaded successfully\n"
     ]
    }
   ],
   "source": [
    "# Download the bus_stop.xml file\n",
    "import requests\n",
    "url = 'https://www.lta.gov.sg/map/busService/bus_stops.xml'\n",
    "response = requests.get(url)\n",
    "with open('bus_stops.xml', 'wb') as f:\n",
    "    f.write(response.content)\n",
    "    print('File downloaded successfully')"
   ]
  },
  {
   "cell_type": "code",
   "execution_count": 9,
   "metadata": {},
   "outputs": [
    {
     "name": "stdout",
     "output_type": "stream",
     "text": [
      "                      BusStopID          Latitude           Longitude\n",
      "0       Outside Estella Gardens  1.35986800000000  103.96568100000000\n",
      "1                 Raffles Hotel  1.29452091230981  103.85402155505173\n",
      "2        The Float @ Marina Bay  1.28951669800000  103.85891720000000\n",
      "3                 The Esplanade  1.28987200800000  103.85649660000000\n",
      "4     Promenade Stn/Pan Pacific  1.29153323500000  103.85926730000000\n",
      "...                         ...               ...                 ...\n",
      "4721                      Blk 5  1.38819494717642  103.98723382929484\n",
      "4722      Bef Changi Beach CP 3  1.39026180023806  103.99295664134459\n",
      "4723          Changi Beach CP 2  1.39112750002185  103.99102138892110\n",
      "4724     Bef S'pore Aviation Ac  1.38775412603923  103.98850309975099\n",
      "4725         S'pore Aviation Ac  1.38841416669580  103.98971638885320\n",
      "\n",
      "[4726 rows x 3 columns]\n"
     ]
    }
   ],
   "source": [
    "# Extract Data from bus_stops.xml\n",
    "\n",
    "import pandas as pd\n",
    "import xml.etree.ElementTree as ET\n",
    "\n",
    "# Load and parse the XML file\n",
    "tree = ET.parse('bus_stops.xml')\n",
    "root = tree.getroot()\n",
    "\n",
    "# Prepare a list to hold all bus stop data\n",
    "bus_stops = []\n",
    "\n",
    "# Iterate through each bus stop in the XML\n",
    "for bus_stop in root.findall('.//busstop'):\n",
    "    # print(bus_stop)\n",
    "    # Extract elements from each BusStop\n",
    "    bus_stop_id = bus_stop.find('details').text if bus_stop.find('details') is not None else None\n",
    "    bus_stop_cor = bus_stop.find('coordinates') if bus_stop.find('coordinates') is not None else None\n",
    "    # print(type(bus_stop。or))\n",
    "    # print(bus_stop_cor)\n",
    "    latitude = bus_stop_cor.find('lat').text if bus_stop_cor.find('lat') is not None else None\n",
    "    longitude = bus_stop_cor.find('long').text if bus_stop_cor.find('long') is not None else None\n",
    "    \n",
    "    # x, y = wgs84_to_svy21(float(latitude), float(longitude))\n",
    "    # Append to list\n",
    "    bus_stops.append({\n",
    "        'BusStopID': bus_stop_id,\n",
    "        # 'BusStopCode': bus_stop_code,\n",
    "        # 'Description': description,\n",
    "        'Latitude': latitude,\n",
    "        'Longitude': longitude,\n",
    "    })\n",
    "\n",
    "# Convert list to DataFrame\n",
    "df = pd.DataFrame(bus_stops)\n",
    "\n",
    "# remove same detail bus stop\n",
    "df = df.drop_duplicates(subset=['BusStopID'])\n",
    "\n",
    "# reorder index\n",
    "df = df.reset_index(drop=True)\n",
    "\n",
    "# Print DataFrame to see the result\n",
    "print(df)\n",
    "\n",
    "# Save DataFrame to CSV\n",
    "df.to_csv('bus_stops.csv', index=False)\n",
    "\n"
   ]
  }
 ],
 "metadata": {
  "kernelspec": {
   "display_name": "airflow",
   "language": "python",
   "name": "python3"
  },
  "language_info": {
   "codemirror_mode": {
    "name": "ipython",
    "version": 3
   },
   "file_extension": ".py",
   "mimetype": "text/x-python",
   "name": "python",
   "nbconvert_exporter": "python",
   "pygments_lexer": "ipython3",
   "version": "3.8.18"
  }
 },
 "nbformat": 4,
 "nbformat_minor": 2
}
