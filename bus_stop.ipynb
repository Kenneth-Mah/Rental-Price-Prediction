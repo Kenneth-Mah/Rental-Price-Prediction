{
 "cells": [
  {
   "cell_type": "code",
   "execution_count": 28,
   "metadata": {},
   "outputs": [
    {
     "name": "stdout",
     "output_type": "stream",
     "text": [
      "Latitude: 1.3010632321521982, Longitude: 103.85847795713964\n"
     ]
    },
    {
     "name": "stderr",
     "output_type": "stream",
     "text": [
      "/home/alexy/miniconda3/envs/airflow/lib/python3.8/site-packages/pyproj/crs/crs.py:141: FutureWarning: '+init=<authority>:<code>' syntax is deprecated. '<authority>:<code>' is the preferred initialization method. When making the change, be mindful of axis order changes: https://pyproj4.github.io/pyproj/stable/gotchas.html#axis-order-changes-in-proj-6\n",
      "  in_crs_string = _prepare_from_proj_string(in_crs_string)\n",
      "/home/alexy/miniconda3/envs/airflow/lib/python3.8/site-packages/pyproj/crs/crs.py:141: FutureWarning: '+init=<authority>:<code>' syntax is deprecated. '<authority>:<code>' is the preferred initialization method. When making the change, be mindful of axis order changes: https://pyproj4.github.io/pyproj/stable/gotchas.html#axis-order-changes-in-proj-6\n",
      "  in_crs_string = _prepare_from_proj_string(in_crs_string)\n",
      "/tmp/ipykernel_3486/3747954069.py:15: FutureWarning: This function is deprecated. See: https://pyproj4.github.io/pyproj/stable/gotchas.html#upgrading-to-pyproj-2-from-pyproj-1\n",
      "  lon, lat = transform(svy21_proj, wgs84_proj, easting, northing)\n"
     ]
    }
   ],
   "source": [
    "from pyproj import Proj, transform\n",
    "def wgs84_to_svy21(latitude, longitude):\n",
    "    # Convert from WGS84 to SVY21\n",
    "    easting, northing = transform(wgs84_proj, svy21_proj, longitude, latitude)\n",
    "    return northing, easting\n",
    "    \n",
    "# Define the projection for SVY21\n",
    "svy21_proj = Proj(init='epsg:3414')  # EPSG code for SVY21\n",
    "\n",
    "# Define the projection for WGS84\n",
    "wgs84_proj = Proj(init='epsg:4326')  # EPSG code for WGS84\n",
    "\n",
    "def svy21_to_wgs84(northing, easting):\n",
    "    # Convert from SVY21 to WGS84\n",
    "    lon, lat = transform(svy21_proj, wgs84_proj, easting, northing)\n",
    "    return lat, lon\n",
    "\n",
    "# Example usage\n",
    "# northing = 31490.4942\n",
    "# easting = 30800.0120\n",
    "# latitude, longitude = svy21_to_wgs84(northing, easting)\n",
    "# print(f\"Latitude: {latitude}, Longitude: {longitude}\")\n"
   ]
  },
  {
   "cell_type": "code",
   "execution_count": null,
   "metadata": {},
   "outputs": [],
   "source": [
    "# Download the bus_stop.xml file\n",
    "import requests\n",
    "url = 'https://www.lta.gov.sg/map/busService/bus_stops.xml'\n",
    "response = requests.get(url)\n",
    "with open('bus_stops.xml', 'wb') as f:\n",
    "    f.write(response.content)\n",
    "    print('File downloaded successfully')"
   ]
  },
  {
   "cell_type": "code",
   "execution_count": 27,
   "metadata": {},
   "outputs": [
    {
     "name": "stdout",
     "output_type": "stream",
     "text": [
      "File downloaded successfully\n"
     ]
    }
   ],
   "source": [
    "# Extract Data from bus_stops.xml\n",
    "\n",
    "import pandas as pd\n",
    "import xml.etree.ElementTree as ET\n",
    "\n",
    "# Load and parse the XML file\n",
    "tree = ET.parse('bus_stops.xml')\n",
    "root = tree.getroot()\n",
    "\n",
    "# Prepare a list to hold all bus stop data\n",
    "bus_stops = []\n",
    "\n",
    "# Iterate through each bus stop in the XML\n",
    "for bus_stop in root.findall('.//busstop'):\n",
    "    # print(bus_stop)\n",
    "    # Extract elements from each BusStop\n",
    "    bus_stop_id = bus_stop.find('details').text if bus_stop.find('details') is not None else None\n",
    "    bus_stop_cor = bus_stop.find('coordinates') if bus_stop.find('coordinates') is not None else None\n",
    "    # print(type(bus_stop。or))\n",
    "    # print(bus_stop_cor)\n",
    "    latitude = bus_stop_cor.find('lat').text if bus_stop_cor.find('lat') is not None else None\n",
    "    longitude = bus_stop_cor.find('long').text if bus_stop_cor.find('long') is not None else None\n",
    "    \n",
    "    x, y = wgs84_to_svy21(float(latitude), float(longitude))\n",
    "    # Append to list\n",
    "    bus_stops.append({\n",
    "        'BusStopID': bus_stop_id,\n",
    "        # 'BusStopCode': bus_stop_code,\n",
    "        # 'Description': description,\n",
    "        'Latitude': latitude,\n",
    "        'Longitude': longitude,\n",
    "        'x' : x,\n",
    "        'y' : y\n",
    "    })\n",
    "\n",
    "# Convert list to DataFrame\n",
    "df = pd.DataFrame(bus_stops)\n",
    "\n",
    "# Print DataFrame to see the result\n",
    "print(df)\n",
    "\n"
   ]
  }
 ],
 "metadata": {
  "kernelspec": {
   "display_name": "airflow",
   "language": "python",
   "name": "python3"
  },
  "language_info": {
   "codemirror_mode": {
    "name": "ipython",
    "version": 3
   },
   "file_extension": ".py",
   "mimetype": "text/x-python",
   "name": "python",
   "nbconvert_exporter": "python",
   "pygments_lexer": "ipython3",
   "version": "3.8.18"
  }
 },
 "nbformat": 4,
 "nbformat_minor": 2
}
